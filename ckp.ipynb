{
 "cells": [
  {
   "cell_type": "code",
   "execution_count": 2,
   "metadata": {},
   "outputs": [
    {
     "name": "stdout",
     "output_type": "stream",
     "text": [
      "(1, 2, 3)\n"
     ]
    }
   ],
   "source": [
    "class Point3D(object):\n",
    "    def __init__(self, x, y, z):\n",
    "        self.x = x\n",
    "        self.y = y\n",
    "        self.z = z\n",
    "    def __repr__(self):\n",
    "        return \"(%d, %d, %d)\" % (self.x, self.y, self.z)\n",
    "        \n",
    "my_point = Point3D(1,2,3)\n",
    "\n",
    "print (my_point)\n"
   ]
  },
  {
   "cell_type": "code",
   "execution_count": null,
   "metadata": {},
   "outputs": [],
   "source": [
    "class Point3D:\n",
    "    def __init__(self,x : float,y : float,z : float):\n",
    "        self.x = x\n",
    "        self.y = y\n",
    "        self.z = z\n",
    "\n",
    "    def __str__(self) -> str:\n",
    "        return f\"({self.x},{self.y},{self.z})\"\n",
    "        #return \"({},{},{})\".format(self.x,self.y,self.z)\n",
    "\n",
    "    def get_info(self):\n",
    "        return (self.x,self.y,self.z)\n",
    "\n",
    "\n",
    "my_point = Point3D(1,2,3)\n",
    "\n",
    "print(f\"Point info : {my_point}\")\n",
    "\n",
    "print(f\"Point info : {my_point.get_info()}\")"
   ]
  },
  {
   "cell_type": "code",
   "execution_count": null,
   "metadata": {},
   "outputs": [],
   "source": [
    "lass Rectange:\n",
    "    def __init__(self,w : float,l : float):\n",
    "        self.width = w\n",
    "        self.length = l\n",
    "\n",
    "    def __str__(self) -> str:\n",
    "        return f\"(Width {self.width}, Length : {self.length})\"\n",
    "\n",
    "    def area(self) -> float:\n",
    "        return self.width*self.length\n",
    "\n",
    "    def perimeter(self) -> float :\n",
    "        return 2*(self.width+self.length)\n",
    "\n",
    "my_rectange = Rectange(3,4)\n",
    "\n",
    "\n",
    "\n",
    "print(f\"Rectange ==> Area : {my_rectange.area()}, Perimeter : {my_rectange.perimeter()}\")"
   ]
  },
  {
   "cell_type": "code",
   "execution_count": null,
   "metadata": {},
   "outputs": [],
   "source": [
    "class BankAccount:\n",
    "    def __init__(self,amount : float ):\n",
    "        self.balance = amount\n",
    "\n",
    "    def __str__(self) -> str:\n",
    "        return f\"Balance :  {self.balance} TND)\"\n",
    "\n",
    "    def deposit(self,amount : float) -> bool:\n",
    "        if(amount>=0):\n",
    "            self.balance += amount\n",
    "            #self.balance = self.balance+amount\n",
    "            return True\n",
    "        return False\n",
    "\n",
    "    def w(self,amount : float) -> bool:\n",
    "        if(amount>=0 and self.balance >= amount ):\n",
    "            self.balance -= amount\n",
    "            return True\n",
    "        return False\n",
    "\n",
    "\n",
    "my_bank_account = BankAccount(500)\n",
    "\n",
    "print(f\"Account : {my_bank_account}\")\n",
    "amount  = float(input(\"How much do you want to deposit Sir !!\"))"
   ]
  },
  {
   "cell_type": "code",
   "execution_count": null,
   "metadata": {},
   "outputs": [],
   "source": []
  }
 ],
 "metadata": {
  "kernelspec": {
   "display_name": "Python 3.10.6 64-bit (windows store)",
   "language": "python",
   "name": "python3"
  },
  "language_info": {
   "codemirror_mode": {
    "name": "ipython",
    "version": 3
   },
   "file_extension": ".py",
   "mimetype": "text/x-python",
   "name": "python",
   "nbconvert_exporter": "python",
   "pygments_lexer": "ipython3",
   "version": "3.10.6"
  },
  "orig_nbformat": 4,
  "vscode": {
   "interpreter": {
    "hash": "0e3dfba2d4aa258b92c4c722392e6fca5e4d44d98df0bdcdc8a4ef31a65503b5"
   }
  }
 },
 "nbformat": 4,
 "nbformat_minor": 2
}
