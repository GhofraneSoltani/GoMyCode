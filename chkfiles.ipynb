{
 "cells": [
  {
   "cell_type": "markdown",
   "metadata": {},
   "source": [
    "## Handling files with python"
   ]
  },
  {
   "cell_type": "markdown",
   "metadata": {},
   "source": [
    "\n",
    "<p><h5> <span style=\"color:pink\"> 1. Write a Python program to read an entire text file. </span></h5></p>"
   ]
  },
  {
   "cell_type": "code",
   "execution_count": null,
   "metadata": {},
   "outputs": [],
   "source": [
    "path = \"text_file.txt\"\n",
    "mode = \"r\"\n",
    "line_index = 1\n",
    "\n",
    "file = open(path, mode) \n",
    "\n",
    "for line in file:\n",
    "    print(f\"Line number {line_index} : {line}\")\n",
    "    line_index+=1\n",
    "\n",
    "file.close()"
   ]
  },
  {
   "cell_type": "markdown",
   "metadata": {},
   "source": [
    "<p><h5> <span style=\"color:pink\">2. Write a Python program to read the first n lines of a file.</span></h5></p>\n"
   ]
  },
  {
   "cell_type": "code",
   "execution_count": null,
   "metadata": {},
   "outputs": [],
   "source": [
    "path = \"text_file.txt\"\n",
    "mode = \"r\"\n",
    "line_index = 1\n",
    "n = int(input(\"\\n\\t\\tEnter Lines To Read : \"))\n",
    "\n",
    "file = open(path, mode) \n",
    "\n",
    "for line in file:\n",
    "    for i in range(n):\n",
    "\t    print(file.readline())\n",
    "        print(f\"Line number {line_index} : {line}\")\n",
    "        line_index+=1\n",
    "\n",
    "    file.close()\n",
    "    "
   ]
  },
  {
   "cell_type": "markdown",
   "metadata": {},
   "source": [
    "#### 3. Write a Python program to read the last n lines of a file."
   ]
  },
  {
   "cell_type": "code",
   "execution_count": null,
   "metadata": {},
   "outputs": [
    {
     "ename": "",
     "evalue": "",
     "output_type": "error",
     "traceback": [
      "\u001b[1;31mLes cellules en cours d’exécution avec Python 3.10.6 64-bit (windows store) nécessitent ipykernel package.\n",
      "\u001b[1;31mExécutez la commande suivante pour installer 'ipykernel' dans l’environnement Python. \n",
      "\u001b[1;31mCommande : '\"c:/Users/compu serv/AppData/Local/Microsoft/WindowsApps/python3.10.exe\" -m pip install ipykernel -U --user --force-reinstall'"
     ]
    }
   ],
   "source": [
    "def LastNlines(fname, N):\n",
    "    # opening file using with() method\n",
    "    # so that file get closed\n",
    "    # after completing work\n",
    "    with open(fname) as file:\n",
    "        for line in (file.readlines() [-N:]):\n",
    "            print(line, end ='')\n",
    " "
   ]
  },
  {
   "cell_type": "markdown",
   "metadata": {},
   "source": [
    "#### 4/Write a Python program that takes a text file as input and returns the number of words of a given text file."
   ]
  },
  {
   "cell_type": "code",
   "execution_count": null,
   "metadata": {},
   "outputs": [],
   "source": [
    "def number_words(file_name):\n",
    "   with open(file_name) as f:\n",
    "       data = f.read()\n",
    "       data.replace(\",\", \" \")\n",
    "       return len(data.split(\" \"))\n",
    "       \n",
    "##print(number_words(\"words.txt\"))"
   ]
  }
 ],
 "metadata": {
  "kernelspec": {
   "display_name": "Python 3.10.6 64-bit (windows store)",
   "language": "python",
   "name": "python3"
  },
  "language_info": {
   "name": "python",
   "version": "3.10.6"
  },
  "orig_nbformat": 4,
  "vscode": {
   "interpreter": {
    "hash": "0e3dfba2d4aa258b92c4c722392e6fca5e4d44d98df0bdcdc8a4ef31a65503b5"
   }
  }
 },
 "nbformat": 4,
 "nbformat_minor": 2
}
