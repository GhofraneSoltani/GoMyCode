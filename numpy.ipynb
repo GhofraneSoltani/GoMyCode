{
 "cells": [
  {
   "cell_type": "markdown",
   "metadata": {},
   "source": [
    "# Checkpoint : Let's create arrays"
   ]
  },
  {
   "cell_type": "markdown",
   "metadata": {},
   "source": [
    "Write a Python program to convert an array to an ordinary list with the same items.\n",
    "\n",
    "We can use the np.tolist() function."
   ]
  },
  {
   "cell_type": "code",
   "execution_count": null,
   "metadata": {},
   "outputs": [],
   "source": [
    "import numpy as np\n",
    "    array1=np.array([2,3,5])\n",
    "    list1=array1.tolist()\n",
    "    print (f\"liste :{list1}\")"
   ]
  },
  {
   "cell_type": "markdown",
   "metadata": {},
   "source": [
    "Write a NumPy program to compute the sum of the diagonal elements of a given array.\n",
    "\n",
    "Hint: There are two possible methods to solve this problem: \n",
    "\n",
    "Manually (without direct function). \n",
    "Using the trace function"
   ]
  },
  {
   "cell_type": "code",
   "execution_count": null,
   "metadata": {},
   "outputs": [],
   "source": [
    "\n",
    "import numpy as np\n",
    "  \n",
    "# creating a 4X4 Numpy matrix\n",
    "n_array = np.array([[55, 25, 15, 41],\n",
    "                    [30, 44, 2, 54],\n",
    "                    [1, 5, 10, 50]\n",
    "                    [11, 212, 4, 20]])\n",
    "  \n",
    "# Displaying the Matrix\n",
    "print(\"Numpy Matrix is:{n_array}\")\n",
    "print(n_array)\n",
    "  \n",
    "# tehseb el  Trace(eli heya diagonale) of a matrix\n",
    "trace = np.trace(n_array)\n",
    "  \n",
    "  \n",
    "print(\"\\nTrace of :\")\n",
    "print(trace)"
   ]
  },
  {
   "cell_type": "markdown",
   "metadata": {},
   "source": [
    "Given an array of your choice, get all the values higher than X:\n",
    "\n",
    "If a = [[1,2],[3,5]] and x = 2 :  then 3 and 5 are higher than 2. "
   ]
  },
  {
   "cell_type": "code",
   "execution_count": null,
   "metadata": {},
   "outputs": [],
   "source": [
    "#bdit feha w whelt fl indexing\n",
    "x = int(input())\n",
    "array = np.array([[1,2],[3,5]])\n",
    "for i in len(array):\n",
    "    for j in \n",
    "if array\n"
   ]
  },
  {
   "cell_type": "markdown",
   "metadata": {},
   "source": [
    "Question 4\n",
    "\n",
    "Given two arrays, A & B have the same shape. \n",
    "\n",
    "The task is to apply addition by hand: C is the new array. "
   ]
  },
  {
   "cell_type": "code",
   "execution_count": null,
   "metadata": {},
   "outputs": [],
   "source": [
    "import numpy as np\n",
    "A = np.array([[55, 25, 15],\n",
    "      [11, 212, 4]])\n",
    "B = np.array([[5, 2, 10],\n",
    "      [1, 20, 4]])\n",
    "print(B)\n",
    "print(A)\n",
    "C = np.array(A+B)\n",
    "print(f\"new result: {C}\")\n",
    "\n",
    "  "
   ]
  },
  {
   "cell_type": "markdown",
   "metadata": {},
   "source": [
    "Question 5\n",
    "\n",
    "Write a NumPy program to subtract the mean of each row of a given matrix.\n",
    "\n",
    "Hint: use the mean function"
   ]
  },
  {
   "cell_type": "code",
   "execution_count": null,
   "metadata": {},
   "outputs": [],
   "source": [
    "#exemple ntaa mean function () yaani l moyenne par exp houni=6/3elements\n",
    "import numpy as np\n",
    "          \n",
    "# make a matrix with numpy\n",
    "gfg = np.matrix('[1, 2, 3]')\n",
    "          \n",
    "# applying matrix.mean() method\n",
    "gfg = gfg - gfg.mean()\n",
    "print(gfg)\n",
    "    "
   ]
  },
  {
   "cell_type": "markdown",
   "metadata": {},
   "source": [
    "#Tkinter is the most commonly used library for developing GUI (Graphical User Interface) in Python. It is a standard Python interface to the Tk GUI toolkit shipped with Python\n",
    "Tkinter (GUI Programming) Tkinter is a graphical user interface (GUI) module for Python, you can make desktop apps with Python. You can make windows, buttons, show text and images amongst ...\n",
    "from tkinter import *\n",
    "from tkinter import ttk\n",
    "import tkinter as tk\n",
    "\n",
    "class Application(tk.Frame):\n",
    "    def __init__(self, master=None):\n",
    "        tk.Frame.__init__(self, master)\n",
    "        self.grid()\n",
    "        self.createWidgets()\n",
    "    def createWidgets(self):\n",
    "        self.medialLabel = tk.Label(self, text='Hello World')\n",
    "        self.medialLabel.config(bg=\"#00ffff\")\n",
    "        self.medialLabel.grid()\n",
    "        self.quitButton = tk.Button(self, text='Quit', command=self.quit)\n",
    "        self.quitButton.grid()\n",
    "\n",
    "app = Application()\n",
    "app.master.title('Sample application')\n",
    "app.mainloop()"
   ]
  }
 ],
 "metadata": {
  "kernelspec": {
   "display_name": "Python 3.10.6 64-bit (windows store)",
   "language": "python",
   "name": "python3"
  },
  "language_info": {
   "name": "python",
   "version": "3.10.6"
  },
  "orig_nbformat": 4,
  "vscode": {
   "interpreter": {
    "hash": "0e3dfba2d4aa258b92c4c722392e6fca5e4d44d98df0bdcdc8a4ef31a65503b5"
   }
  }
 },
 "nbformat": 4,
 "nbformat_minor": 2
}
