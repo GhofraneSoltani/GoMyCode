{
 "cells": [
  {
   "cell_type": "markdown",
   "metadata": {},
   "source": [
    "## let's manipulate dataframes ##"
   ]
  },
  {
   "cell_type": "markdown",
   "metadata": {},
   "source": [
    "#### Objective\n",
    "Write a Pandas program to create and display a DataFrame from the following dictionary data with index labels.\n",
    "\n",
    "exam_data = {'name': ['Anastasia', 'Dima', 'Katherine', 'James', 'Emily', 'Michael', 'Matthew', 'Laura', 'Kevin', 'Jonas'],\n",
    "\n",
    "'score': [12.5, 9, 16.5, np.nan, 9, 20, 14.5, np.nan, 8, 19],\n",
    "\n",
    "'attempts': [1, 3, 2, 3, 2, 3, 1, 1, 2, 1],\n",
    "\n",
    "'qualify': ['yes', 'no', 'yes', 'no', 'no', 'yes', 'yes', 'no', 'no', 'yes']}\n",
    "\n",
    "##########################################################################################\n",
    "\n",
    "\n",
    "labels = ['a', 'b', 'c', 'd', 'e', 'f', 'g', 'h', 'i', 'j']"
   ]
  },
  {
   "cell_type": "markdown",
   "metadata": {},
   "source": [
    "<p> <span style=\"color:blue\"> 1/ Print the three <em>first rows using</em> the head() method.</span>.</p>"
   ]
  },
  {
   "cell_type": "code",
   "execution_count": null,
   "metadata": {},
   "outputs": [
    {
     "ename": "",
     "evalue": "",
     "output_type": "error",
     "traceback": [
      "\u001b[1;31mÉchec du démarrage du noyau. \n",
      "\u001b[1;31mImpossible de démarrer le noyau 'Python 3.10.6 64-bit' en raison du délai d’expiration de la connexion. \n",
      "Pour plus d’informations, consultez Jupyter <a href='command:jupyter.viewOutput'>log</a>."
     ]
    }
   ],
   "source": [
    "import pandas as pd\n",
    "data = pd.DataFrame(exam_data)\n",
    "data.to_csv('Data.csv')\n",
    "new_data.head(3)\n"
   ]
  },
  {
   "cell_type": "markdown",
   "metadata": {},
   "source": [
    "##### 2/Delete rows with Nan values."
   ]
  },
  {
   "cell_type": "code",
   "execution_count": null,
   "metadata": {},
   "outputs": [],
   "source": [
    "df.drop(\"country\", axis=1) #axis=1 yaani column , axis=0 or index yaani rows"
   ]
  },
  {
   "cell_type": "markdown",
   "metadata": {},
   "source": [
    "##### 3/Extract the 'name' and 'score' columns from the DataFrame."
   ]
  },
  {
   "cell_type": "code",
   "execution_count": null,
   "metadata": {},
   "outputs": [],
   "source": [
    "import pandas as pd \n",
    "import numpy as np \n",
    "\n",
    "D=pd.DataFrame({'name': ['Anastasia', 'Dima', 'Katherine', 'James', 'Emily', 'Michael', 'Matthew', 'Laura', 'Kevin', 'Jonas'],'score': [12.5, 9, 16.5, np.nan, 9, 20, 14.5, np.nan, 8, 19],'attempts': [1, 3, 2, 3, 2, 3, 1, 1, 2, 1],'qualify': ['yes', 'no', 'yes', 'no', 'no', 'yes', 'yes', 'no', 'no', 'yes']},index= ['a', 'b', 'c', 'd', 'e', 'f', 'g', 'h', 'i', 'j'])\n",
    "print(D[[\"name\",\"score\"]])"
   ]
  },
  {
   "cell_type": "markdown",
   "metadata": {},
   "source": [
    "##### 4/Write a Pandas program to append a new row 'k' to the DataFrame with these values (name: \"Suresh\", score: 15.5, attempts: 1, qualify: \"yes\")."
   ]
  },
  {
   "cell_type": "code",
   "execution_count": null,
   "metadata": {},
   "outputs": [],
   "source": [
    "import pandas as pd \n",
    "import numpy as np \n",
    "\n",
    "D1=pd.DataFrame({\"name\": [\"Anastasia\", \"Dima\", \"Katherine\", \"James\", \"Emily\", \"Michael\", \"Matthew\", \"Laura\", \"Kevin\", \"Jonas\"],\"score\": [12.5, 9, 16.5, np.nan, 9, 20, 14.5, np.nan, 8, 19],\"attempts\": [1, 3, 2, 3, 2, 3, 1, 1, 2, 1],\"qualify\": [\"yes\", \"no\", \"yes\", \"no\", \"no\", \"yes\", \"yes\", \"no\", \"no\", \"yes\"]},index=[\"a\",\"b\",\"c\",\"d\",\"e\",\"f\",\"g\",\"h\",\"i\",\"j\"])\n",
    "D2=pd.DataFrame({\"name\":  \"Suresh\",\"score\": 15.5, \"attempts\": 1, \"qualify\":\"yes\"},index=['k'])  #colum \"nom \" de  core 15.5 et nombre d'éssai égale à 1 et qualifié  \n",
    "D=pd.concat([D1,D2])\n",
    "print(D)"
   ]
  },
  {
   "cell_type": "markdown",
   "metadata": {},
   "source": [
    "##### 5/Write a Pandas program to delete the 'attempts' column from the DataFrame."
   ]
  },
  {
   "cell_type": "code",
   "execution_count": null,
   "metadata": {},
   "outputs": [],
   "source": [
    "import pandas as pd \n",
    "import numpy as np \n",
    "D=pd.concat([pd.DataFrame({\"name\": [\"Anastasia\", \"Dima\", \"Katherine\", \"James\", \"Emily\", \"Michael\", \"Matthew\", \"Laura\", \"Kevin\", \"Jonas\"],\"score\": [12.5, 9, 16.5, np.nan, 9, 20, 14.5, np.nan, 8, 19],\"attempts\": [1, 3, 2, 3, 2, 3, 1, 1, 2, 1],\"qualify\": [\"yes\", \"no\", \"yes\", \"no\", \"no\", \"yes\", \"yes\", \"no\", \"no\", \"yes\"]},index=[\"a\",\"b\",\"c\",\"d\",\"e\",\"f\",\"g\",\"h\",\"i\",\"j\"]),pd.DataFrame({\"name\":  \"Suresh\",\"score\": 15.5, \"attempts\": 1, \"qualify\":\"yes\"},index=['k'])])\n",
    "print(\"\\n\",D.drop(columns=\"attempts\")) "
   ]
  },
  {
   "cell_type": "markdown",
   "metadata": {},
   "source": [
    "##### 6/Add a new column \"Success\": if the score is higher than 10 we will have 1, else we will have 0."
   ]
  },
  {
   "cell_type": "code",
   "execution_count": null,
   "metadata": {},
   "outputs": [],
   "source": [
    "import pandas as pd \n",
    "import numpy as np \n",
    "D=pd.DataFrame({'name': ['Anastasia', 'Dima', 'Katherine', 'James', 'Emily', 'Michael', 'Matthew', 'Laura', 'Kevin', 'Jonas'],'score': [12.5, 9, 16.5, np.nan, 9, 20, 14.5, np.nan, 8, 19],'attempts': [1, 3, 2, 3, 2, 3, 1, 1, 2, 1],'qualify': ['yes', 'no', 'yes', 'no', 'no', 'yes', 'yes', 'no', 'no', 'yes']},index=[ ['a', 'b', 'c', 'd', 'e', 'f', 'g', 'h', 'i', 'j']])\n",
    "S=D.drop(index=[\"h\",\"d\"])\n",
    "print(S)\n",
    "S[\"Succes\"]=[1 if D[\"score\"][x] >10 else 0 for x in range(8) ] #comparer à chaque foix lélement du colonne \"score\" avec 10 \n",
    "print(S)\n"
   ]
  },
  {
   "cell_type": "markdown",
   "metadata": {},
   "source": [
    "7/After executing the final DataFrame, export it into a CSV file named \"my_data\"."
   ]
  },
  {
   "cell_type": "code",
   "execution_count": null,
   "metadata": {},
   "outputs": [],
   "source": [
    "import pandas as pd \n",
    "import numpy as np \n",
    "D=pd.DataFrame({'name': ['Anastasia', 'Dima', 'Katherine', 'James', 'Emily', 'Michael', 'Matthew', 'Laura', 'Kevin', 'Jonas'],'score': [12.5, 9, 16.5, np.nan, 9, 20, 14.5, np.nan, 8, 19],'attempts': [1, 3, 2, 3, 2, 3, 1, 1, 2, 1],'qualify': ['yes', 'no', 'yes', 'no', 'no', 'yes', 'yes', 'no', 'no', 'yes']},index=[ ['a', 'b', 'c', 'd', 'e', 'f', 'g', 'h', 'i', 'j']])\n",
    "S=D.drop(index=[\"h\",\"d\"])\n",
    "print(S)\n",
    "S[\"Succes\"]=[1 if D[\"score\"][x] >10 else 0 for x in range(8) ]\n",
    "print(S)\n",
    "S.to_csv(\"my_data.csv\")  #convert to csv file\n",
    "my_data=pd.read_csv(\"my_data.csv\")"
   ]
  }
 ],
 "metadata": {
  "kernelspec": {
   "display_name": "Python 3.10.6 64-bit",
   "language": "python",
   "name": "python3"
  },
  "language_info": {
   "name": "python",
   "version": "3.10.6"
  },
  "orig_nbformat": 4,
  "vscode": {
   "interpreter": {
    "hash": "7be3fbb54c314b4c513dcf433598dc67f0fc3825e04fff7789a4dea2ec6cb3de"
   }
  }
 },
 "nbformat": 4,
 "nbformat_minor": 2
}
